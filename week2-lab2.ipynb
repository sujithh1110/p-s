{
  "nbformat": 4,
  "nbformat_minor": 0,
  "metadata": {
    "colab": {
      "provenance": [],
      "authorship_tag": "ABX9TyPM0ksVqC7sz/3+eXsdUpyP",
      "include_colab_link": true
    },
    "kernelspec": {
      "name": "python3",
      "display_name": "Python 3"
    },
    "language_info": {
      "name": "python"
    }
  },
  "cells": [
    {
      "cell_type": "markdown",
      "metadata": {
        "id": "view-in-github",
        "colab_type": "text"
      },
      "source": [
        "<a href=\"https://colab.research.google.com/github/sujithh1110/p-s/blob/main/week2-lab2.ipynb\" target=\"_parent\"><img src=\"https://colab.research.google.com/assets/colab-badge.svg\" alt=\"Open In Colab\"/></a>"
      ]
    },
    {
      "cell_type": "code",
      "execution_count": 2,
      "metadata": {
        "colab": {
          "base_uri": "https://localhost:8080/",
          "height": 0
        },
        "id": "tURi9QabJhOs",
        "outputId": "b6eb242a-9e71-488a-ee74-b9e613db389f"
      },
      "outputs": [
        {
          "output_type": "stream",
          "name": "stdout",
          "text": [
            "Mean of the sample data is: 88.0\n"
          ]
        }
      ],
      "source": [
        "import numpy as np\n",
        "data=[85,92,78,89,95,87,90]\n",
        "mean=sum(data)/len(data)\n",
        "print(\"Mean of the sample data is:\",mean)\n",
        "\n"
      ]
    },
    {
      "cell_type": "code",
      "source": [
        "import numpy as np\n",
        "values=[15,16,17,18,19,20]\n",
        "frequencies=[2,5,11,9,14,13]\n",
        "#Calculate the sum of f+x\n",
        "sum_fx=sum(f*x for f,x in zip(frequencies,values))\n",
        "#Calculate the sum of frequencies\n",
        "sum_f=sum(frequencies)\n",
        "#Calculate the mean\n",
        "mean=sum_fx/sum_f\n",
        "print(\"Mean of the frequency distrubution is:\",mean)\n",
        "\n",
        "\n"
      ],
      "metadata": {
        "colab": {
          "base_uri": "https://localhost:8080/"
        },
        "id": "bd98g-odKp9n",
        "outputId": "659e7e11-121e-42f0-e0d7-d18c76d70945"
      },
      "execution_count": 4,
      "outputs": [
        {
          "output_type": "stream",
          "name": "stdout",
          "text": [
            "Mean of the frequency distrubution is: 18.24074074074074\n"
          ]
        }
      ]
    },
    {
      "cell_type": "code",
      "source": [
        "import numpy as np\n",
        "#Class intervals and their corresponding frequencies\n",
        "class_intervals=[(0,10),(10,20),(20,30),(30,40),(40,50),(50,60)]\n",
        "frequencies=[12,18,27,20,17,6]\n",
        "midpoints=[(start+end)/2 for start,end in class_intervals]\n",
        "#Calculate the sum of f+m\n",
        "sum_fm=sum(f*m for f,m in zip(frequencies,midpoints))\n",
        "#Calculate the sum of frequencies\n",
        "sum_f=sum(frequencies)\n",
        "#Calculate the mean\n",
        "mean=sum_fm/sum_f\n",
        "print(\"Mean of the frequency distrubution is:\",mean)\n",
        "#Calculate the sum of f+m\n",
        "sum_fm=sum(f*m for f,m in zip(frequencies,midpoints))\n",
        "#Calculate the sum of frequencies\n",
        "sum_f=sum(frequencies)\n",
        "#Calculate the mean\n",
        "mean=sum_fm/sum_f\n",
        "print(\"Mean of the frequency distrubution is:\",mean)\n",
        "\n"
      ],
      "metadata": {
        "colab": {
          "base_uri": "https://localhost:8080/"
        },
        "id": "FYIIZd-BQNoa",
        "outputId": "79e34230-3596-400e-8f1f-b242b43569c3"
      },
      "execution_count": 7,
      "outputs": [
        {
          "output_type": "stream",
          "name": "stdout",
          "text": [
            "Mean of the frequency distrubution is: 28.0\n",
            "Mean of the frequency distrubution is: 28.0\n"
          ]
        }
      ]
    },
    {
      "cell_type": "code",
      "source": [
        "import numpy as np\n",
        "#data size is odd\n",
        "data=[3,13,7,5,21,23,39,23,40,23,14,12,56,23,29]\n",
        "#sort the data\n",
        "data_sorted=sorted(data)\n",
        "#find the middle index\n",
        "middle_index=len(data_sorted)//2 # Changed data_stored to data_sorted\n",
        "print(middle_index)\n",
        "#get the median\n",
        "median=data_sorted[middle_index]\n",
        "print(\"Median of the sample data is:\",median)\n",
        "#sort the data\n",
        "data_sorted=sorted(data)\n",
        "#find the middle index\n",
        "middle_index=len(data_sorted)//2 # Changed data_stored to data_sorted\n",
        "print(middle_index)\n",
        "#get the median\n",
        "median=data_sorted[middle_index]\n",
        "print(\"Median of the sample data is:\",median)"
      ],
      "metadata": {
        "colab": {
          "base_uri": "https://localhost:8080/"
        },
        "id": "1g4RJ3CsUrzA",
        "outputId": "fb943745-15ce-45e4-872c-e3a8a77f05d6"
      },
      "execution_count": 15,
      "outputs": [
        {
          "output_type": "stream",
          "name": "stdout",
          "text": [
            "7\n",
            "Median of the sample data is: 23\n",
            "7\n",
            "Median of the sample data is: 23\n"
          ]
        }
      ]
    },
    {
      "cell_type": "code",
      "source": [
        "import numpy as np\n",
        "data=[3,13,7,5,21,23,23,40,23,14,12,56,23,29]\n",
        "#sort the data\n",
        "data_sorted=sorted(data)\n",
        "#find the middle indices\n",
        "middle_index1=len(data_sorted)//2-1\n",
        "middle_index2=len(data_sorted)//2\n",
        "print(middle_index1)\n",
        "print(middle_index2)\n",
        "#get the median\n",
        "median=(data_sorted[middle_index1]+data_sorted[middle_index2])/2\n",
        "print(\"Median of the sample data is:\",median)"
      ],
      "metadata": {
        "colab": {
          "base_uri": "https://localhost:8080/"
        },
        "id": "UO5zks2jUk7R",
        "outputId": "04f4c371-f704-4710-caad-76fbe2271de3"
      },
      "execution_count": 13,
      "outputs": [
        {
          "output_type": "stream",
          "name": "stdout",
          "text": [
            "6\n",
            "7\n",
            "Median of the sample data is: 22.0\n"
          ]
        }
      ]
    },
    {
      "cell_type": "code",
      "source": [],
      "metadata": {
        "id": "yIm7_FmRX0r_"
      },
      "execution_count": null,
      "outputs": []
    }
  ]
}