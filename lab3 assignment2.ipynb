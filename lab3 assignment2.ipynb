{
  "nbformat": 4,
  "nbformat_minor": 0,
  "metadata": {
    "colab": {
      "provenance": [],
      "authorship_tag": "ABX9TyPCfffxCP4sHfZUL89uIrYs",
      "include_colab_link": true
    },
    "kernelspec": {
      "name": "python3",
      "display_name": "Python 3"
    },
    "language_info": {
      "name": "python"
    }
  },
  "cells": [
    {
      "cell_type": "markdown",
      "metadata": {
        "id": "view-in-github",
        "colab_type": "text"
      },
      "source": [
        "<a href=\"https://colab.research.google.com/github/sujithh1110/p-s/blob/main/lab3%20assignment2.ipynb\" target=\"_parent\"><img src=\"https://colab.research.google.com/assets/colab-badge.svg\" alt=\"Open In Colab\"/></a>"
      ]
    },
    {
      "cell_type": "markdown",
      "source": [
        "# **1: Ungrouped Data**\n",
        "Given the ungrouped dataset below, calculate the median and mode:\n",
        "Dataset: [12, 45, 67, 23, 45, 89, 45, 12, 33, 67, 67, 78, 45, 23, 23, 56, 89, 45, 33, 45]\n",
        "Tasks:\n",
        "## 1. Compute the median and mode using numpy.*bold text*"
      ],
      "metadata": {
        "id": "dKgoibZihBu-"
      }
    },
    {
      "cell_type": "code",
      "execution_count": null,
      "metadata": {
        "colab": {
          "base_uri": "https://localhost:8080/"
        },
        "id": "8c2E1_XGQvUs",
        "outputId": "7146a05f-d8eb-4e3b-9f44-1a338974f0ec"
      },
      "outputs": [
        {
          "output_type": "stream",
          "name": "stdout",
          "text": [
            "Median: 45.0\n",
            "Mode: 45\n"
          ]
        }
      ],
      "source": [
        "import numpy as np\n",
        "from scipy import stats\n",
        "\n",
        "\n",
        "dataset = [12, 45, 67, 23, 45, 89, 45, 12, 33, 67, 67, 78, 45, 23, 23, 56, 89, 45, 33, 45]\n",
        "\n",
        "\n",
        "median_ungrouped = np.median(dataset)\n",
        "\n",
        "\n",
        "mode_ungrouped_numpy = stats.mode(dataset, keepdims=True).mode[0]\n",
        "\n",
        "print(f\"Median: {median_ungrouped}\")\n",
        "print(f\"Mode: {mode_ungrouped_numpy}\")\n"
      ]
    },
    {
      "cell_type": "code",
      "source": [
        "import pandas as pd\n",
        "\n",
        "dataset = [12, 45, 67, 23, 45, 89, 45, 12, 33, 67, 67, 78, 45, 23, 23, 56, 89, 45, 33, 45]\n",
        "\n",
        "mode_ungrouped_pandas = pd.Series(dataset).mode().tolist()\n",
        "\n",
        "print(f\"Mode using Pandas: {mode_ungrouped_pandas}\")\n"
      ],
      "metadata": {
        "colab": {
          "base_uri": "https://localhost:8080/"
        },
        "id": "TglMxqgpSuSQ",
        "outputId": "202ff462-af94-4ae7-9faa-fada69e6c514"
      },
      "execution_count": null,
      "outputs": [
        {
          "output_type": "stream",
          "name": "stdout",
          "text": [
            "Mode using Pandas: [45]\n"
          ]
        }
      ]
    },
    {
      "cell_type": "markdown",
      "source": [
        "2: Grouped Data\n",
        "The following data shows the frequency of scores in a test:\n",
        "Score Frequency\n",
        "10 5\n",
        "20 8\n",
        "30 12\n",
        "40 15\n",
        "50 7\n",
        "Tasks:\n",
        "## 1. Compute the median and mode using numpy"
      ],
      "metadata": {
        "id": "7yPBk_H1hYDh"
      }
    },
    {
      "cell_type": "code",
      "source": [
        "import numpy as np\n",
        "\n",
        "\n",
        "scores = np.array([10, 20, 30, 40, 50])\n",
        "frequencies = np.array([5, 8, 12, 15, 7])\n",
        "\n",
        "cum_freq = np.cumsum(frequencies)\n",
        "total_freq = sum(frequencies)\n",
        "\n",
        "n = total_freq / 2\n",
        "median_class_index = np.where(cum_freq >= n)[0][0]\n",
        "median_score = scores[median_class_index]\n",
        "\n",
        "\n",
        "mode_score = scores[np.argmax(frequencies)]\n",
        "\n",
        "print(f\"Median: {median_score}\")\n",
        "print(f\"Mode: {mode_score}\")\n"
      ],
      "metadata": {
        "colab": {
          "base_uri": "https://localhost:8080/"
        },
        "id": "CXvW9jKLTr2z",
        "outputId": "1094f2b5-72b7-4e29-fe46-5c0a2e5d5d5a"
      },
      "execution_count": null,
      "outputs": [
        {
          "output_type": "stream",
          "name": "stdout",
          "text": [
            "Median: 30\n",
            "Mode: 40\n"
          ]
        }
      ]
    },
    {
      "cell_type": "code",
      "source": [
        "import pandas as pd\n",
        "\n",
        "\n",
        "data = {'Score': [10, 20, 30, 40, 50], 'Frequency': [5, 8, 12, 15, 7]}\n",
        "df = pd.DataFrame(data)\n",
        "\n",
        "\n",
        "mode_score_pandas = df.loc[df['Frequency'].idxmax(), 'Score']\n",
        "\n",
        "print(f\"Mode using Pandas: {mode_score_pandas}\")\n"
      ],
      "metadata": {
        "colab": {
          "base_uri": "https://localhost:8080/"
        },
        "id": "V8kKsZDeUshn",
        "outputId": "a24240fc-3d70-4f28-a36d-e3b40db6b374"
      },
      "execution_count": null,
      "outputs": [
        {
          "output_type": "stream",
          "name": "stdout",
          "text": [
            "Mode using Pandas: 40\n"
          ]
        }
      ]
    },
    {
      "cell_type": "markdown",
      "source": [
        "### Grouped Data\n",
        "The following data represents a frequency distribution with class intervals:\n",
        "Class Interval Frequency\n",
        "0 − 10 4\n",
        "10 − 20 6\n",
        "20 − 30 10\n",
        "30 − 40 8\n",
        "40 − 50 2\n",
        "1\n",
        "Tasks:\n",
        "### 1. Use the class intervals and frequencies to compute the median and mo"
      ],
      "metadata": {
        "id": "sDX4gns0hkBn"
      }
    },
    {
      "cell_type": "code",
      "source": [
        "import numpy as np\n",
        "\n",
        "\n",
        "class_intervals = [(0, 10), (10, 20), (20, 30), (30, 40), (40, 50)]\n",
        "frequencies = [4, 6, 10, 8, 2]\n",
        "\n",
        "\n",
        "cum_freq = np.cumsum(frequencies)\n",
        "total_freq = sum(frequencies)\n",
        "\n",
        "n = total_freq / 2\n",
        "median_class_index = np.where(cum_freq >= n)[0][0]\n",
        "\n",
        "L = class_intervals[median_class_index][0]\n",
        "F = cum_freq[median_class_index - 1] if median_class_index > 0 else 0\n",
        "f_median = frequencies[median_class_index]\n",
        "h = class_intervals[median_class_index][1] - class_intervals[median_class_index][0]\n",
        "\n",
        "\n",
        "median_grouped = L + ((n - F) / f_median) * h\n",
        "\n",
        "\n",
        "f_mode = max(frequencies)\n",
        "mode_class_index = frequencies.index(f_mode)\n",
        "L_mode = class_intervals[mode_class_index][0]\n",
        "\n",
        "f1 = frequencies[mode_class_index]\n",
        "f0 = frequencies[mode_class_index - 1] if mode_class_index > 0 else 0\n",
        "f2 = frequencies[mode_class_index + 1] if mode_class_index < len(frequencies) - 1 else 0\n",
        "\n",
        "\n",
        "import numpy as np\n",
        "\n",
        "class_intervals = [(0, 10), (10, 20), (20, 30), (30, 40), (40, 50)]\n",
        "frequencies = [4, 6, 10, 8, 2]\n",
        "\n",
        "cum_freq = np.cumsum(frequencies)\n",
        "total_freq = sum(frequencies)\n",
        "\n",
        "\n",
        "n = total_freq / 2\n",
        "median_class_index = np.where(cum_freq >= n)[0][0]\n",
        "\n",
        "L = class_intervals[median_class_index][0]\n",
        "F = cum_freq[median_class_index - 1] if median_class_index > 0 else 0\n",
        "f_median = frequencies[median_class_index]\n",
        "h = class_intervals[median_class_index][1] - class_intervals[median_class_index][0]\n",
        "\n",
        "\n",
        "median_grouped = L + ((n - F) / f_median) * h\n",
        "\n",
        "\n",
        "f_mode = max(frequencies)\n",
        "mode_class_index = frequencies.index(f_mode)\n",
        "L_mode = class_intervals[mode_class_index][0]\n",
        "\n",
        "f1 = frequencies[mode_class_index]\n",
        "f0 = frequencies[mode_class_index - 1] if mode_class_index > 0 else 0\n",
        "f2 = frequencies[mode_class_index + 1] if mode_class_index < len(frequencies) - 1 else 0\n",
        "\n",
        "if (2 * f1 - f0 - f2) != 0:\n",
        "    mode_grouped = L_mode + ((f1 - f0) / (2 * f1 - f0 - f2)) * h\n",
        "else:\n",
        "    mode_grouped = None\n",
        "\n",
        "print(f\"Median: {median_grouped}\")\n",
        "print(f\"Mode: {mode_grouped}\")\n",
        "\n"
      ],
      "metadata": {
        "colab": {
          "base_uri": "https://localhost:8080/"
        },
        "id": "9lFmi0XGV-T8",
        "outputId": "2a41849f-5f44-4aa7-8f2b-d6a1c5aefe05"
      },
      "execution_count": null,
      "outputs": [
        {
          "output_type": "stream",
          "name": "stdout",
          "text": [
            "Median: 25.0\n",
            "Mode: 26.666666666666664\n"
          ]
        }
      ]
    },
    {
      "cell_type": "code",
      "source": [
        "import numpy as np\n",
        "\n",
        "\n",
        "class_intervals = [(0, 10), (10, 20), (20, 30), (30, 40), (40, 50)]\n",
        "frequencies = [4, 6, 10, 8, 2]\n",
        "\n",
        "\n",
        "cum_freq = np.cumsum(frequencies)\n",
        "total_freq = sum(frequencies)\n",
        "\n",
        "\n",
        "n = total_freq / 2\n",
        "median_class_index = np.where(cum_freq >= n)[0][0]\n",
        "\n",
        "L = class_intervals[median_class_index][0]\n",
        "F = cum_freq[median_class_index - 1] if median_class_index > 0 else 0\n",
        "f_median = frequencies[median_class_index]\n",
        "h = class_intervals[median_class_index][1] - class_intervals[median_class_index][0]\n",
        "\n",
        "\n",
        "median_grouped = L + ((n - F) / f_median) * h\n",
        "\n",
        "\n",
        "f_mode = max(frequencies)\n",
        "mode_class_index = frequencies.index(f_mode)\n",
        "L_mode = class_intervals[mode_class_index][0]\n",
        "\n",
        "\n",
        "f1 = frequencies[mode_class_index]\n",
        "f0 = frequencies[mode_class_index - 1] if mode_class_index > 0 else 0\n",
        "f2 = frequencies[mode_class_index + 1] if mode_class_index < len(frequencies) - 1 else 0\n",
        "\n",
        "import numpy as np\n",
        "en data\n",
        "class_intervals = [(0, 10), (10, 20), (20, 30), (30, 40), (40, 50)]\n",
        "frequencies = [4, 6, 10, 8, 2]\n",
        "\n",
        "cum_freq = np.cumsum(frequencies)\n",
        "total_freq = sum(frequencies)\n",
        "\n",
        "\n",
        "n = total_freq / 2\n",
        "median_class_index = np.where(cum_freq >= n)[0][0]\n",
        "\n",
        "L = class_intervals[median_class_index][0]\n",
        "F = cum_freq[median_class_index - 1] if median_class_index > 0 else 0\n",
        "f_median = frequencies[median_class_index]\n",
        "h = class_intervals[median_class_index][1] - class_intervals[median_class_index][0]\n",
        "\n",
        "median_grouped = L + ((n - F) / f_median) * h\n",
        "\n",
        "\n",
        "f_mode = max(frequencies)\n",
        "mode_class_index = frequencies.index(f_mode)\n",
        "L_mode = class_intervals[mode_class_index][0]\n",
        "\n",
        "\n",
        "f1 = frequencies[mode_class_index]\n",
        "f0 = frequencies[mode_class_index - 1] if mode_class_index > 0 else 0\n",
        "f2 = frequencies[mode_class_index + 1] if mode_class_index < len(frequencies) - 1 else 0\n",
        "\n",
        "\n",
        "if (2 * f1 - f0 - f2) != 0:\n",
        "    mode_grouped = L_mode + ((f1 - f0) / (2 * f1 - f0 - f2)) * h\n",
        "else:\n",
        "    mode_grouped = None\n",
        "\n",
        "print(f\"Approximated Median: {median_grouped}\")\n",
        "print(f\"Approximated Mode: {mode_grouped}\")\n",
        "\n",
        "\n"
      ],
      "metadata": {
        "colab": {
          "base_uri": "https://localhost:8080/"
        },
        "id": "CNHYZ4wOZqlt",
        "outputId": "c1c8a60a-4dec-4ae1-b393-0a37d9ed7be8"
      },
      "execution_count": null,
      "outputs": [
        {
          "output_type": "stream",
          "name": "stdout",
          "text": [
            "Approximated Median: 25.0\n",
            "Approximated Mode: 26.666666666666664\n"
          ]
        }
      ]
    }
  ]
}