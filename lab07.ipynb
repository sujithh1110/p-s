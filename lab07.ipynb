{
  "nbformat": 4,
  "nbformat_minor": 0,
  "metadata": {
    "colab": {
      "provenance": [],
      "authorship_tag": "ABX9TyPP9ege0JdoHFblNXLQGpkm",
      "include_colab_link": true
    },
    "kernelspec": {
      "name": "python3",
      "display_name": "Python 3"
    },
    "language_info": {
      "name": "python"
    }
  },
  "cells": [
    {
      "cell_type": "markdown",
      "metadata": {
        "id": "view-in-github",
        "colab_type": "text"
      },
      "source": [
        "<a href=\"https://colab.research.google.com/github/sujithh1110/p-s/blob/main/lab07.ipynb\" target=\"_parent\"><img src=\"https://colab.research.google.com/assets/colab-badge.svg\" alt=\"Open In Colab\"/></a>"
      ]
    },
    {
      "cell_type": "code",
      "execution_count": 1,
      "metadata": {
        "id": "rT0QRiG3g8eN"
      },
      "outputs": [],
      "source": [
        "import numpy as np\n",
        "import scipy.stats as stats"
      ]
    },
    {
      "cell_type": "code",
      "source": [
        "# Given data\n",
        "sample_data = [25000, 31000, 20000, 28000, 29500, 32000, 21000, 30500,\n",
        "               27000, 28500, 30000, 23000, 31000, 26000, 29500]\n",
        "\n",
        "# Step 1: Compute sample mean and standard deviation\n",
        "sample_mean = np.mean(sample_data)\n",
        "sample_std = np.std(sample_data, ddof=1)  # Using Bessel's correction (ddof=1)\n",
        "n = len(sample_data)\n"
      ],
      "metadata": {
        "id": "Tf3hqFEdg-w-"
      },
      "execution_count": 3,
      "outputs": []
    },
    {
      "cell_type": "code",
      "source": [
        "# Step 2: Calculate the 95% confidence interval\n",
        "confidence_level = 0.95\n",
        "alpha = 1 - confidence_level\n",
        "t_critical = stats.t.ppf(1 - alpha/2, df=n-1)  # t-critical value for 95% CI\n",
        "margin_of_error = t_critical * (sample_std / np.sqrt(n))\n",
        "\n",
        "lower_bound = sample_mean - margin_of_error\n",
        "upper_bound = sample_mean + margin_of_error"
      ],
      "metadata": {
        "id": "F5ZiwK-NhEpk"
      },
      "execution_count": 4,
      "outputs": []
    },
    {
      "cell_type": "code",
      "source": [
        "# Step 3: Hypothesis test assessment\n",
        "claimed_mean = 30000\n",
        "if lower_bound <= claimed_mean <= upper_bound:\n",
        "    conclusion = \"Fail to reject the null hypothesis: The actual mean is not significantly different from ₹30,000.\"\n",
        "else:\n",
        "    conclusion = \"Reject the null hypothesis: The actual mean is significantly different from ₹30,000.\"\n",
        "\n",
        "# Display results\n",
        "print(f\"Sample Mean: {sample_mean:.2f}\")\n",
        "print(f\"Sample Standard Deviation: {sample_std:.2f}\")\n",
        "print(f\"95% Confidence Interval: ({lower_bound:.2f}, {upper_bound:.2f})\")\n",
        "print(conclusion)\n"
      ],
      "metadata": {
        "colab": {
          "base_uri": "https://localhost:8080/"
        },
        "id": "txRXzQWBhJr5",
        "outputId": "3b0a5914-1ae0-4203-bf9d-73fe81a14e32"
      },
      "execution_count": 5,
      "outputs": [
        {
          "output_type": "stream",
          "name": "stdout",
          "text": [
            "Sample Mean: 27466.67\n",
            "Sample Standard Deviation: 3748.65\n",
            "95% Confidence Interval: (25390.73, 29542.60)\n",
            "Reject the null hypothesis: The actual mean is significantly different from ₹30,000.\n"
          ]
        }
      ]
    }
  ]
}